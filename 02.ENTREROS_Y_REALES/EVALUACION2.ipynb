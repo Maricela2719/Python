{
  "nbformat": 4,
  "nbformat_minor": 0,
  "metadata": {
    "colab": {
      "name": "EVALUACION2.ipynb",
      "provenance": []
    },
    "kernelspec": {
      "name": "python3",
      "display_name": "Python 3"
    },
    "language_info": {
      "name": "python"
    }
  },
  "cells": [
    {
      "cell_type": "markdown",
      "source": [
        "# Práctica 2. \n",
        "6 puntos\n",
        "\n",
        "### 2 Práctica  Números enteros y reales.\n",
        "\n",
        "Realiza los ejercicios de acuerdo a las indicaciones\n",
        "\n",
        "2.1 Ejercicio 1 (1.5 puntos)\n",
        "\n",
        "Escribir un programa que convierta un valor dado en grados Fahrenheit a grados Celsius."
      ],
      "metadata": {
        "id": "sZwziQp3dWqo"
      }
    },
    {
      "cell_type": "code",
      "source": [
        "#tU CÓDIGO AQUI"
      ],
      "metadata": {
        "id": "ATUeLXAvdKdP"
      },
      "execution_count": null,
      "outputs": []
    },
    {
      "cell_type": "markdown",
      "source": [
        "2.2 Ejercicio 2 (1.5 puntos)\n",
        "\n",
        "Dados dos números, mostrar la suma, resta, división y multiplicación de ambos.\n",
        "\n"
      ],
      "metadata": {
        "id": "8ubdyEbEdMeW"
      }
    },
    {
      "cell_type": "code",
      "source": [
        "#Tu código aqui"
      ],
      "metadata": {
        "id": "XQEFFzmSdPCH"
      },
      "execution_count": null,
      "outputs": []
    },
    {
      "cell_type": "markdown",
      "source": [
        "2.3 Ejercicio 3 (1.5 puntos)\n",
        "\n",
        "Calcular el perímetro y área de un rectángulo dada su base y su altura. Respuesta:"
      ],
      "metadata": {
        "id": "cVDihbpZdRa6"
      }
    },
    {
      "cell_type": "code",
      "source": [
        "#Tu código aqui"
      ],
      "metadata": {
        "id": "MJ849GWadSGN"
      },
      "execution_count": null,
      "outputs": []
    }
  ]
}