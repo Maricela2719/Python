{
 "cells": [
  {
   "cell_type": "code",
   "execution_count": 10,
   "metadata": {},
   "outputs": [
    {
     "name": "stdout",
     "output_type": "stream",
     "text": [
      "¡Bienvenido al menu de recomendaciones! \n",
      "1. Literatura \n",
      "2. Cine\n",
      "3. Música \n",
      "4.Videojuegos \n",
      "5. Salir\n",
      "Opción no válida\n"
     ]
    }
   ],
   "source": [
    "\n",
    "#Evaluación 6\n",
    "#Ejercicio 1 (1.5 puntos)\n",
    "#Realizar un ejemplo de menú, donde podemos escoger las distintas opciones hasta que seleccionamos la opción de “Salir”.\n",
    "print('¡Bienvenido al menu de recomendaciones! \\n1. Literatura \\n2. Cine\\n3. Música \\n4.Videojuegos \\n5. Salir')\n",
    "opcion=int(input('Elige una opción'))\n",
    "if opcion==1:\n",
    "    print('Lecturas recomendables:\\n*Esperando a Tito y otros cuentos de fútbol (Eduardo Sacheri)\\n*El juego de Ender (Orson Scott Card)\\n*El sueño de los héroes (Adolfo Bioy Casares)')\n",
    "elif opcion==2:\n",
    "    print('Películas recomendables:\\n*Matrix 1999)\\n*El último samuray (2003)\\n*Cars (2006) ')\n",
    "elif opcion==3:\n",
    "    print('Discos recomendables:\\n*Despedazado por mil partes (La Renga, 1996)\\n*Búfalo (La Mississippi, 2008)\\n*Gaia (Mago de Oz, 2003) ')\n",
    "elif opcion==4:\n",
    "    print('Videojuegos clásicos recomendables:\\n*Día del tentáculo (LucasArts, 1993)\\n*Día del tentáculo (LucasArts, 1993)\\n*Death Rally (Remedy/Apogee, 1996) ')\n",
    "elif opcion==5:\n",
    "    print('Gracias, vuelva pronto')\n",
    "else:\n",
    "    print('Opción no válida')\n",
    "\n"
   ]
  },
  {
   "cell_type": "code",
   "execution_count": 3,
   "metadata": {},
   "outputs": [
    {
     "name": "stdout",
     "output_type": "stream",
     "text": [
      "2\n",
      "3\n",
      "5\n",
      "7\n",
      "11\n",
      "13\n",
      "17\n",
      "19\n",
      "23\n",
      "29\n",
      "31\n",
      "37\n",
      "41\n",
      "43\n",
      "47\n",
      "53\n",
      "59\n",
      "61\n",
      "67\n",
      "71\n",
      "73\n",
      "79\n",
      "83\n",
      "89\n",
      "97\n"
     ]
    }
   ],
   "source": [
    "#Ejercicio 2 (1.5 puntos)\n",
    "#Se pide por teclado un número y nos imprime los números primos que hay previos a este número\n",
    "numero=int(input('Ingresa un número mayor a 1'))\n",
    "for i in range(2, numero): \n",
    "  if i>1: \n",
    "    for j in range(2,i): \n",
    "        if(i % j==0): \n",
    "            break\n",
    "    else: \n",
    "        print(i)\n",
    "\n",
    "\n",
    "\n"
   ]
  },
  {
   "cell_type": "code",
   "execution_count": 14,
   "metadata": {},
   "outputs": [
    {
     "name": "stdout",
     "output_type": "stream",
     "text": [
      "El mes  1 pago:  10 €\n",
      "El mes  2 pago:  20 €\n",
      "El mes  3 pago:  30 €\n",
      "El mes  4 pago:  40 €\n",
      "El mes  5 pago:  50 €\n",
      "El mes  6 pago:  60 €\n",
      "El mes  7 pago:  70 €\n",
      "El mes  8 pago:  80 €\n",
      "El mes  9 pago:  90 €\n",
      "El mes  10 pago:  100 €\n",
      "El mes  11 pago:  110 €\n",
      "El mes  12 pago:  120 €\n",
      "El mes  13 pago:  130 €\n",
      "El mes  14 pago:  140 €\n",
      "El mes  15 pago:  150 €\n",
      "El mes  16 pago:  160 €\n",
      "El mes  17 pago:  170 €\n",
      "El mes  18 pago:  180 €\n",
      "El mes  19 pago:  190 €\n",
      "El mes  20 pago:  200 €\n",
      "Al finalizar los 20 meses pago en total: 200 €\n"
     ]
    }
   ],
   "source": [
    "#Ejercicio 3 (1.5 puntos)\n",
    "#Una persona adquirió un producto para pagar en 20 meses. El primer mes pagó 10 €, el segundo 20 €, el tercero 40 € y\n",
    "#así sucesivamente. Realizar un algoritmo para determinar cuánto debe pagar mensualmente y el total de lo que pagó \n",
    "#después de los 20 meses.\n",
    "import math\n",
    "#mensualidad=10\n",
    "contador=0\n",
    "pago_total=0\n",
    "#print('El mes  1 pago:  10 €')\n",
    "while contador<20:\n",
    "    mensualidad=10\n",
    "    contador=contador+1\n",
    "    pago=mensualidad*contador\n",
    "    print('El mes ',contador,'pago: ',pago, '€')\n",
    "    \n",
    "    pago_total=pago_total+mensualidad\n",
    "print('Al finalizar los 20 meses pago en total:', pago_total,'€')\n",
    "    "
   ]
  }
 ],
 "metadata": {
  "kernelspec": {
   "display_name": "Python 3.10.5 64-bit",
   "language": "python",
   "name": "python3"
  },
  "language_info": {
   "codemirror_mode": {
    "name": "ipython",
    "version": 3
   },
   "file_extension": ".py",
   "mimetype": "text/x-python",
   "name": "python",
   "nbconvert_exporter": "python",
   "pygments_lexer": "ipython3",
   "version": "3.10.5"
  },
  "orig_nbformat": 4,
  "vscode": {
   "interpreter": {
    "hash": "c61e2f667faccf17dc82e75aec51bc34457377a7f0ccdfb79ca7847a06e5b31b"
   }
  }
 },
 "nbformat": 4,
 "nbformat_minor": 2
}
