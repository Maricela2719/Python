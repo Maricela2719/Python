{
 "cells": [
  {
   "cell_type": "code",
   "execution_count": 3,
   "metadata": {},
   "outputs": [
    {
     "name": "stdout",
     "output_type": "stream",
     "text": [
      "ingresa el resultado de la multiplicación: 10 * 8\n",
      "ingresa el resultado de la multiplicación: 10 * 4\n",
      "ingresa el resultado de la multiplicación: 9 * 3\n",
      "ingresa el resultado de la multiplicación: 6 * 3\n",
      "error, el resultado correcto es: 18\n",
      "ingresa el resultado de la multiplicación: 9 * 10\n",
      "ingresa el resultado de la multiplicación: 6 * 10\n",
      "ingresa el resultado de la multiplicación: 4 * 3\n",
      "error, el resultado correcto es: 12\n",
      "ingresa el resultado de la multiplicación: 5 * 2\n",
      "ingresa el resultado de la multiplicación: 4 * 9\n",
      "ingresa el resultado de la multiplicación: 3 * 2\n",
      "El numéro de aciertos que tuviste fueron 8\n"
     ]
    }
   ],
   "source": [
    "#Práctica 9. Programación funcional. (6 puntos)\n",
    "#Ejercicio 1 (2 puntos)\n",
    "#Realice un programa que pregunte aleatoriamente una multiplicación. El programa debe indicar si la respuesta ha sido \n",
    "#correcta o no (en caso que la respuesta sea incorrecta el programa debe indicar cuál es la correcta). El programa \n",
    "#preguntará 10 multiplicaciones, y al finalizar mostrará el número de aciertos.\n",
    "\n",
    "\n",
    "import random\n",
    "lambda x,y : x* y\n",
    "producto = lambda x,y : x * y\n",
    "producto(5,7)\n",
    "intento = 0\n",
    "aciertos=0\n",
    "while intento <10:\n",
    "    x=random.randint(2,10)\n",
    "    y=random.randint(2,10)\n",
    "    resultado=int(input(print('ingresa el resultado de la multiplicación:',x,'*',y)))\n",
    "    intento=intento+1\n",
    "    if(resultado==producto(x,y)):\n",
    "        aciertos=aciertos+1\n",
    "    else:\n",
    "        print('error, el resultado correcto es:',producto(x,y))\n",
    "print('El numéro de aciertos que tuviste fueron',aciertos)\n"
   ]
  },
  {
   "cell_type": "code",
   "execution_count": 5,
   "metadata": {},
   "outputs": [
    {
     "name": "stdout",
     "output_type": "stream",
     "text": [
      "[1, 2, 3, 4, 5, 6, 7, 8, 9, 10]\n",
      "[1, 4, 9, 16, 25, 36, 49, 64, 81, 100]\n"
     ]
    }
   ],
   "source": [
    "#Ejercicio 2 (2 puntos)\n",
    "#Obtener el cuadrado de todos los elementos en la lista.\n",
    "#Lista: [1,2,3,4,5,6,7,8,9,10]\n",
    "\n",
    "Lista= [1, 2, 3, 4, 5, 6, 7, 8, 9, 10]\n",
    "print (Lista)\n",
    " \n",
    "for i in range(0,len(Lista)):\n",
    "\tLista[i]=Lista[i]*Lista[i]\n",
    " \n",
    "print (Lista)\n",
    "\n"
   ]
  },
  {
   "cell_type": "code",
   "execution_count": 11,
   "metadata": {},
   "outputs": [
    {
     "name": "stdout",
     "output_type": "stream",
     "text": [
      "(5, 2, 6, 7, 8, 10, 77, 55, 2, 1, 30, 4, 2, 3)\n",
      "Los números en la tupla mayores a 5 son:   7\n"
     ]
    }
   ],
   "source": [
    "#Ejercicio 3 (2 puntos)\n",
    "#Obtener la cantidad de elementos mayores a 5 en la tupla.\n",
    "#tupla = (5,2,6,7,8,10,77,55,2,1,30,4,2,3)\n",
    "tupla=(5,2,6,7,8,10,77,55,2,1,30,4,2,3)\n",
    "acumula=0\n",
    "print(tupla)\n",
    "for i in range (0,len(tupla)):\n",
    "    if tupla[i]>5:\n",
    "        acumula=acumula+1\n",
    "    \n",
    "print ('Los números en la tupla mayores a 5 son:  ',acumula)"
   ]
  },
  {
   "cell_type": "code",
   "execution_count": 8,
   "metadata": {},
   "outputs": [
    {
     "name": "stdout",
     "output_type": "stream",
     "text": [
      "[1, 2, 3, 4]\n",
      "La suma de la lista es:   10\n"
     ]
    }
   ],
   "source": [
    "#Ejercicio 4 (2 puntos)\n",
    "#Obtener la suma de todos los elementos en la lista\n",
    "#lista = [1,2,3,4]\n",
    "lista=[1,2,3,4]\n",
    "suma=0\n",
    "print(lista)\n",
    "for i in range(0,len(lista)):\n",
    "\tsuma=suma+lista[i]\n",
    " \n",
    "print ('La suma de la lista es:  ',suma)"
   ]
  }
 ],
 "metadata": {
  "kernelspec": {
   "display_name": "Python 3.10.5 64-bit",
   "language": "python",
   "name": "python3"
  },
  "language_info": {
   "codemirror_mode": {
    "name": "ipython",
    "version": 3
   },
   "file_extension": ".py",
   "mimetype": "text/x-python",
   "name": "python",
   "nbconvert_exporter": "python",
   "pygments_lexer": "ipython3",
   "version": "3.10.5"
  },
  "orig_nbformat": 4,
  "vscode": {
   "interpreter": {
    "hash": "c61e2f667faccf17dc82e75aec51bc34457377a7f0ccdfb79ca7847a06e5b31b"
   }
  }
 },
 "nbformat": 4,
 "nbformat_minor": 2
}
