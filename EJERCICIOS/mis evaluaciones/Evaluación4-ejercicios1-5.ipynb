{
 "cells": [
  {
   "cell_type": "code",
   "execution_count": 1,
   "metadata": {},
   "outputs": [
    {
     "name": "stdout",
     "output_type": "stream",
     "text": [
      "10     100     1000\n",
      "3     9     27\n",
      "5     25     125\n",
      "1     1     1\n",
      "10     100     1000\n",
      "9     81     729\n",
      "3     9     27\n",
      "2     4     8\n",
      "2     4     8\n",
      "8     64     512\n"
     ]
    }
   ],
   "source": [
    "#Ejercicio 1\n",
    "#Realizar un programa que inicialice una lista con 10 valores aleatorios (del 1 al 10) y \n",
    "# posteriormente muestre en pantalla cada elemento de la lista junto con su cuadrado y su cubo\n",
    "import random\n",
    "import math\n",
    "contador=0\n",
    "nuevo_num_al=''\n",
    "lista_valores=[]\n",
    "while contador<10:\n",
    "    nuevo_num_al = random.randint(1,10)\n",
    "    lista_valores.append(nuevo_num_al)\n",
    "    contador=contador+1\n",
    "for nuevo_num_al in lista_valores:\n",
    "    print(nuevo_num_al,'   ',int(math.pow(nuevo_num_al,2)),'   ',int(math.pow(nuevo_num_al,3)))\n",
    "\n"
   ]
  },
  {
   "cell_type": "code",
   "execution_count": 25,
   "metadata": {},
   "outputs": [
    {
     "name": "stdout",
     "output_type": "stream",
     "text": [
      "guzman\n",
      "maricela\n",
      "llamo\n",
      "me\n",
      "Yo\n"
     ]
    }
   ],
   "source": [
    "#Ejercicio 2\n",
    "#Crea una lista e inicializarla con 5 cadenas de caracteres leídas por teclado. Copia los elementos de la lista \n",
    "# en otra lista pero en orden inverso, y muestra sus elementos por la pantalla.\n",
    "lista1=[]\n",
    "lista2=[]\n",
    "contar=0\n",
    "while contar<5:\n",
    "    mensaje=input('ingresa el texto')\n",
    "    lista1.append(mensaje)\n",
    "    contar=contar+1\n",
    "lista2=lista1.copy()\n",
    "for i in reversed(lista2):\n",
    "    print(i)\n"
   ]
  },
  {
   "cell_type": "code",
   "execution_count": 36,
   "metadata": {},
   "outputs": [
    {
     "name": "stdout",
     "output_type": "stream",
     "text": [
      "Las calificaciones fueron:  [8, 9, 8, 7, 6]\n",
      "El promedio es:  7.6\n",
      "Nota más alta:  9\n",
      "Nota más baja:  6\n"
     ]
    }
   ],
   "source": [
    "#Ejercicio 3\n",
    "#Se quiere realizar un programa que lea por teclado las 5 notas obtenidas por un alumno (comprendidas entre 0 y 10).\n",
    "#  A continuación debe mostrar todas las notas, la nota media, la nota más alta que ha sacado y la menor.\n",
    "import statistics\n",
    "calificaciones=[]\n",
    "calificacion=''\n",
    "contar=0\n",
    "while contar<5:\n",
    "    calificacion=int(input('Ingresa la calificación entre 0 y 10'))\n",
    "    calificaciones.append(calificacion)\n",
    "    contar=contar+1\n",
    "print('Las calificaciones fueron: ',calificaciones)\n",
    "promedio = statistics.mean(calificaciones)\n",
    "print('El promedio es: ',promedio)\n",
    "print('Nota más alta: ',max(calificaciones))\n",
    "print('Nota más baja: ',min(calificaciones))\n"
   ]
  },
  {
   "cell_type": "code",
   "execution_count": 3,
   "metadata": {},
   "outputs": [
    {
     "name": "stdout",
     "output_type": "stream",
     "text": [
      "{'nombre': 'yare', 'notas': {}, 'nota 1': 8, 'nota 2': 8}\n",
      "{'nombre': 'yare', 'notas': {}, 'nota 1': 4, 'nota 2': 5}\n"
     ]
    }
   ],
   "source": [
    "#Codifica un programa en python que nos permita guardar los nombres de los alumnos de una clase y las notas que han obtenido.\n",
    "# Cada alumno puede tener distinta cantidad de notas. Guarda la información en un diccionario cuya claves serán los nombres \n",
    "# de los alumnos y los valores serán listados con las notas de cada alumno.\n",
    "\n",
    "#El programa pedirá el número de alumnos que vamos a introducir, pedirá su nombre e irá pidiendo sus notas hasta que \n",
    "# introduzcamos un número negativo. Al final el programa nos mostrará la lista de alumnos y la nota media obtenida por \n",
    "# cada uno de ellos. Nota: si se introduce el nombre de un alumno que ya existe el programa nos dará un error.\n",
    "import statistics\n",
    "diccionario={\n",
    "    'nombre':{}\n",
    "}\n",
    "diccionario['notas']={}\n",
    "num_alumnos=int(input('¿Cuántos alumnos agregaras?'))\n",
    "for x in range(num_alumnos):\n",
    "    nombre=input(\"Ingrese el nombre del alumno:\")\n",
    "    while nombre in 'nombre':\n",
    "        print('Ese nombre ya fue agregado')\n",
    "        nombre=input(\"Ingrese el nombre del alumno:\")\n",
    "    diccionario['nombre']=nombre\n",
    "    num_notas=int(input('¿Cuántas notas agregara?'))\n",
    "    for x in range(num_notas):\n",
    "        x=x+1\n",
    "        x=str(x)\n",
    "        notas=int(input(\"Ingrese la nota:\"))\n",
    "        diccionario['nota '+x]=notas \n",
    "        #diccionario['notas']=notas\n",
    "    #promedio = sum(notas)/len(notas)\n",
    "    print(diccionario)\n",
    "    #print(promedio)\n",
    "    \n"
   ]
  },
  {
   "cell_type": "code",
   "execution_count": 24,
   "metadata": {},
   "outputs": [],
   "source": [
    "#Ejercicio 5\n",
    "#Crea una tupla con los meses del año, pide números al usuario, si el número está entre 1 y la longitud máxima de la tupla, \n",
    "# muestra el contenido de esa posición sino muestra un mensaje de error. El programa termina cuando el usuario introduce \n",
    "# un cero.\n",
    "tupla_meses=('enero','febrero','marzo','abril','mayo','junio','julio','agosto','septiembre','octubre','noviembre','diciembre')\n",
    "mes=int(input('ingresa un número entre 1 y 12; y cero para terminar'))\n",
    "if mes>0 and mes<13:\n",
    "    print(tupla_meses[mes-1]) \n",
    "elif mes==0:\n",
    "    if mes>13:\n",
    "        print('Error, el número debe ser entre 1 y 12')\n",
    "\n",
    "\n",
    "#print(tupla_meses)\n",
    "\n"
   ]
  }
 ],
 "metadata": {
  "kernelspec": {
   "display_name": "Python 3.10.5 64-bit",
   "language": "python",
   "name": "python3"
  },
  "language_info": {
   "codemirror_mode": {
    "name": "ipython",
    "version": 3
   },
   "file_extension": ".py",
   "mimetype": "text/x-python",
   "name": "python",
   "nbconvert_exporter": "python",
   "pygments_lexer": "ipython3",
   "version": "3.10.5"
  },
  "orig_nbformat": 4,
  "vscode": {
   "interpreter": {
    "hash": "c61e2f667faccf17dc82e75aec51bc34457377a7f0ccdfb79ca7847a06e5b31b"
   }
  }
 },
 "nbformat": 4,
 "nbformat_minor": 2
}
