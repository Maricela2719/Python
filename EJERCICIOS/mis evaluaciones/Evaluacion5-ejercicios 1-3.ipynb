{
 "cells": [
  {
   "cell_type": "code",
   "execution_count": 1,
   "metadata": {},
   "outputs": [
    {
     "name": "stdout",
     "output_type": "stream",
     "text": [
      "El número   -7   es negativo\n"
     ]
    }
   ],
   "source": [
    "#Ejercicio 1\n",
    "#Programa que imprima si el número es positivo o negativo\n",
    "numero=int(input('Ingresa un número'))\n",
    "if numero<0:\n",
    "    print('El número  ',numero,'  es negativo')\n",
    "else:\n",
    "    print('El número  ',numero,'  es positivo')"
   ]
  },
  {
   "cell_type": "code",
   "execution_count": 5,
   "metadata": {},
   "outputs": [
    {
     "name": "stdout",
     "output_type": "stream",
     "text": [
      "El numero   0   no esta dentro del rango 1-7\n"
     ]
    }
   ],
   "source": [
    "#Ejercicio 2\n",
    "#Programa que imprima si el número ingresado esta en el rango de 1 a 7\n",
    "numero=int(input('Ingresa un número'))\n",
    "if numero>0 and numero<8:\n",
    "    print('El numero  ',numero,'  esta dentro del rango 1-7')\n",
    "else:\n",
    "    print('El numero  ',numero,'  no esta dentro del rango 1-7')"
   ]
  },
  {
   "cell_type": "code",
   "execution_count": 6,
   "metadata": {},
   "outputs": [
    {
     "name": "stdout",
     "output_type": "stream",
     "text": [
      "Error, el interés debe ser menor o igual a 30%\n"
     ]
    }
   ],
   "source": [
    "#Ejercicio 3\n",
    "#Programa que solicite un monto y que solicite el interés mensual, si el interés es mayor al 30% nos imprimirá \n",
    "#que es incorrecto, si es menor realizará el cálculo e imprimira el monto con su interés adicionado.\n",
    "monto=int(input('Ingresa el monto'))\n",
    "interes=int(input('Ingresa el interés mensual'))\n",
    "#interes=interes/100\n",
    "if interes > 30:\n",
    "    print('Error, el interés debe ser menor o igual a 30%')\n",
    "else:\n",
    "    resultado=((monto*interes)/100)+monto\n",
    "    print('El monto con su interés adicionado es:',resultado)\n"
   ]
  },
  {
   "cell_type": "code",
   "execution_count": null,
   "metadata": {},
   "outputs": [],
   "source": []
  }
 ],
 "metadata": {
  "kernelspec": {
   "display_name": "Python 3.10.5 64-bit",
   "language": "python",
   "name": "python3"
  },
  "language_info": {
   "codemirror_mode": {
    "name": "ipython",
    "version": 3
   },
   "file_extension": ".py",
   "mimetype": "text/x-python",
   "name": "python",
   "nbconvert_exporter": "python",
   "pygments_lexer": "ipython3",
   "version": "3.10.5"
  },
  "orig_nbformat": 4,
  "vscode": {
   "interpreter": {
    "hash": "c61e2f667faccf17dc82e75aec51bc34457377a7f0ccdfb79ca7847a06e5b31b"
   }
  }
 },
 "nbformat": 4,
 "nbformat_minor": 2
}
