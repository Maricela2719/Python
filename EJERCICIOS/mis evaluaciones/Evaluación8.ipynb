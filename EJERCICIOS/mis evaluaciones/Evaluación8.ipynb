{
 "cells": [
  {
   "cell_type": "code",
   "execution_count": 3,
   "metadata": {},
   "outputs": [
    {
     "name": "stdout",
     "output_type": "stream",
     "text": [
      "{1: 1, 2: 4, 3: 9, 4: 16, 5: 25, 6: 36, 7: 49, 8: 64}\n"
     ]
    }
   ],
   "source": [
    "#Práctica 8. (6 puntos)\n",
    "\n",
    "#Ejercicio 1 (2 puntos)\n",
    "#Escribe un programa python que pida un número por teclado y que cree un diccionario cuyas claves sean desde el número 1 \n",
    "# hasta el número indicado, y los valores sean los cuadrados de las claves.\n",
    "\n",
    "#Ejemplo: si se ingresa el 4 imprima el cuadrado de 1, de 2, de 3 y de 4\n",
    "numero=int(input('Ingresa un número'))\n",
    "contador=numero-1\n",
    "diccionario={\n",
    "\n",
    "}\n",
    "for i in range(1, numero+1):\n",
    "    operacion=numero-contador\n",
    "    diccionario[operacion] = operacion*operacion\n",
    "    contador=contador-1\n",
    "print(diccionario)\n"
   ]
  },
  {
   "cell_type": "code",
   "execution_count": 10,
   "metadata": {},
   "outputs": [
    {
     "name": "stdout",
     "output_type": "stream",
     "text": [
      "{'p': 1, 'a': 2, 'l': 1, 'o': 1, 'm': 1}\n"
     ]
    }
   ],
   "source": [
    "#Ejercicio 2 (2 puntos)\n",
    "#Escribe un programa que lea una cadena y devuelva un diccionario con la cantidad de apariciones de cada carácter \n",
    "# en la cadena.\n",
    "#Ejemplo: si se ingresa \"paloma\" p=1 a=2 l=1 o=1 m=1\n",
    "diccionario2 = {\n",
    "\t\n",
    "}\n",
    "palabra = input('Ingresa una palabra')\n",
    "for i in palabra:\n",
    "\tif i in diccionario2:\n",
    "\t\tdiccionario2[i]+=1\n",
    "\telse:\n",
    "\t\tdiccionario2[i]=1\t\n",
    "\n",
    "print(diccionario2)\n"
   ]
  },
  {
   "cell_type": "code",
   "execution_count": 10,
   "metadata": {},
   "outputs": [
    {
     "name": "stdout",
     "output_type": "stream",
     "text": [
      "El valor de lo que se ha vendido es:  90\n",
      "Error, la fruta no esta en la lista\n"
     ]
    }
   ],
   "source": [
    "#Ejercicio 3 (2 puntos)\n",
    "#Vamos a crear un programa en python donde vamos a declarar un diccionario para guardar los precios de las distintas frutas.\n",
    "#El programa pedirá el nombre de la fruta y la cantidad que se ha vendido y nos mostrará el precio final de la fruta a \n",
    "# partir de los datos guardados en el diccionario. Si la fruta no existe nos dará un error. Tras cada consulta el programa\n",
    "# nos preguntará si queremos hacer otra consulta.\n",
    "\n",
    "dic_precios={'mango':35,'pera':45, 'uva':75,'platano':25, 'manzana':55}\n",
    "while True:\n",
    "    opcion=input('Ingresa una fruta')\n",
    "    if opcion not in dic_precios:\n",
    "        print('Error, la fruta no esta en la lista')\n",
    "    else:\n",
    "        venta=int(input('Cuántos kilos se han vendido:'))\n",
    "        precio_final=venta*dic_precios[opcion]\n",
    "        print('El valor de lo que se ha vendido es: ',precio_final)\n",
    "    continua = input('¿Quieres hacer otra consulta (s/n)')\n",
    "    if continua == \"n\":\n",
    "        break\n"
   ]
  },
  {
   "cell_type": "code",
   "execution_count": null,
   "metadata": {},
   "outputs": [],
   "source": [
    "\n"
   ]
  }
 ],
 "metadata": {
  "kernelspec": {
   "display_name": "Python 3.10.5 64-bit",
   "language": "python",
   "name": "python3"
  },
  "language_info": {
   "codemirror_mode": {
    "name": "ipython",
    "version": 3
   },
   "file_extension": ".py",
   "mimetype": "text/x-python",
   "name": "python",
   "nbconvert_exporter": "python",
   "pygments_lexer": "ipython3",
   "version": "3.10.5"
  },
  "orig_nbformat": 4,
  "vscode": {
   "interpreter": {
    "hash": "c61e2f667faccf17dc82e75aec51bc34457377a7f0ccdfb79ca7847a06e5b31b"
   }
  }
 },
 "nbformat": 4,
 "nbformat_minor": 2
}
