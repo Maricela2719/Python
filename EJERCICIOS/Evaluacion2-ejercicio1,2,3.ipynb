{
 "cells": [
  {
   "cell_type": "code",
   "execution_count": 2,
   "metadata": {},
   "outputs": [
    {
     "name": "stdout",
     "output_type": "stream",
     "text": [
      "48.888888888888886\n"
     ]
    }
   ],
   "source": [
    "farenheit=input('Ingresa los grados Farenheit, para convertir a Celsius')\n",
    "farenheit=int(farenheit)\n",
    "celsius=(farenheit-32)/1.8\n",
    "print(celsius)\n"
   ]
  },
  {
   "cell_type": "code",
   "execution_count": 14,
   "metadata": {},
   "outputs": [
    {
     "name": "stdout",
     "output_type": "stream",
     "text": [
      "La suma de los números que ingresaste es: 9.0\n",
      "La resta de los números que ingresaste es: -5.0\n",
      "La multiplicación de los números que ingresaste es: 14.0\n",
      "La división de los números que ingresaste es: 0.2857142857142857\n"
     ]
    }
   ],
   "source": [
    "numero1=input('Ingresa el primer número')\n",
    "numero2=input('Ingresa el segundo número')\n",
    "numero1=float(numero1)\n",
    "numero2=float(numero2)\n",
    "suma=(numero1)+(numero2)\n",
    "print('La suma de los números que ingresaste es:',suma)\n",
    "resta=(numero1)-(numero2)\n",
    "print('La resta de los números que ingresaste es:',resta)\n",
    "multiplicacion=(numero1)*(numero2)\n",
    "print('La multiplicación de los números que ingresaste es:',multiplicacion)\n",
    "division=(numero1)/(numero2)\n",
    "print('La división de los números que ingresaste es:',division)\n",
    "\n",
    "\n",
    "\n",
    "\n",
    "\n"
   ]
  },
  {
   "cell_type": "code",
   "execution_count": 1,
   "metadata": {},
   "outputs": [
    {
     "name": "stdout",
     "output_type": "stream",
     "text": [
      "Este programa calcula el perímetro y el área de un rectángulo\n",
      "El perímetro del rectángulo es: 16.0\n",
      "El área del rectángulo es: 15.0\n"
     ]
    }
   ],
   "source": [
    "print('Este programa calcula el perímetro y el área de un rectángulo')\n",
    "base=input('Ingresa la medida de la base del rectangulo')\n",
    "altura=input('Ingresa la medida de la altura del rectangulo')\n",
    "base=float(base)\n",
    "altura=float(altura)\n",
    "perimetro=(base+base+altura+altura)\n",
    "area=(base*altura)\n",
    "print('El perímetro del rectángulo es:',  perimetro)\n",
    "print('El área del rectángulo es:',  area)"
   ]
  }
 ],
 "metadata": {
  "kernelspec": {
   "display_name": "Python 3.10.5 64-bit",
   "language": "python",
   "name": "python3"
  },
  "language_info": {
   "codemirror_mode": {
    "name": "ipython",
    "version": 3
   },
   "file_extension": ".py",
   "mimetype": "text/x-python",
   "name": "python",
   "nbconvert_exporter": "python",
   "pygments_lexer": "ipython3",
   "version": "3.10.5"
  },
  "orig_nbformat": 4,
  "vscode": {
   "interpreter": {
    "hash": "c61e2f667faccf17dc82e75aec51bc34457377a7f0ccdfb79ca7847a06e5b31b"
   }
  }
 },
 "nbformat": 4,
 "nbformat_minor": 2
}
