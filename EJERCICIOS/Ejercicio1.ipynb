{
 "cells": [
  {
   "cell_type": "code",
   "execution_count": 2,
   "metadata": {},
   "outputs": [
    {
     "name": "stdout",
     "output_type": "stream",
     "text": [
      "La fecha de hoy es: 2022-06-16\n"
     ]
    }
   ],
   "source": [
    "#Fecha de hoy\n",
    "from datetime import date\n",
    "print(\"La fecha de hoy es: \" + str(date.today()))"
   ]
  },
  {
   "cell_type": "code",
   "execution_count": 1,
   "metadata": {},
   "outputs": [
    {
     "name": "stdout",
     "output_type": "stream",
     "text": [
      "100 centímetros, equivalen a 1.0 metros.\n"
     ]
    }
   ],
   "source": [
    "#Convertidor centímetros a metros\n",
    "cm = input(\"Ingresa los centímetros que se van a convertir a metros\")\n",
    "m=int(cm)/100\n",
    "print(str(cm)+' centímetros, equivalen a '+str(m)+' metros.')\n",
    "\n"
   ]
  },
  {
   "cell_type": "code",
   "execution_count": 5,
   "metadata": {},
   "outputs": [
    {
     "name": "stdout",
     "output_type": "stream",
     "text": [
      " La distancia entre los dos planetas, Jupiter y la tierra es: 628949330 Km, y en millas de: 390829113.66199994\n"
     ]
    }
   ],
   "source": [
    "#Distancia entre dos planetas\n",
    "#parte_1\n",
    "tierra = 149597870\n",
    "jupiter = 778547200\n",
    "distancia_en_km = jupiter - tierra\n",
    "distancia_en_millas = distancia_en_km * 0.6214\n",
    "print(' La distancia entre los dos planetas, Jupiter y la tierra es: ' + str(distancia_en_km) + ' Km, y en millas de: ' + str(distancia_en_millas))\n"
   ]
  },
  {
   "cell_type": "code",
   "execution_count": 6,
   "metadata": {},
   "outputs": [
    {
     "name": "stdout",
     "output_type": "stream",
     "text": [
      "Ahora ingresa tu los valores de dos planetas\n",
      "La distancia entre esos planetas es:  101999\n"
     ]
    }
   ],
   "source": [
    "print('Ahora ingresa tu los valores de dos planetas')\n",
    "planeta1=input(\"Ingresa la distancia del sol para el primer planeta\")\n",
    "planeta1=int(planeta1)\n",
    "planeta2=input(\"Ingresa la distancia del sol para el segundo planeta\")\n",
    "planeta2=int(planeta2)\n",
    "distancia = abs(planeta1 - planeta2)\n",
    "print('La distancia entre esos planetas es: ', distancia)"
   ]
  }
 ],
 "metadata": {
  "kernelspec": {
   "display_name": "Python 3.10.5 64-bit",
   "language": "python",
   "name": "python3"
  },
  "language_info": {
   "codemirror_mode": {
    "name": "ipython",
    "version": 3
   },
   "file_extension": ".py",
   "mimetype": "text/x-python",
   "name": "python",
   "nbconvert_exporter": "python",
   "pygments_lexer": "ipython3",
   "version": "3.10.5"
  },
  "orig_nbformat": 4,
  "vscode": {
   "interpreter": {
    "hash": "c61e2f667faccf17dc82e75aec51bc34457377a7f0ccdfb79ca7847a06e5b31b"
   }
  }
 },
 "nbformat": 4,
 "nbformat_minor": 2
}
