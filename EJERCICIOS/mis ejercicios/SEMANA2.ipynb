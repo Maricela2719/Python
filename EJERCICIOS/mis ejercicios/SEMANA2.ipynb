{
  "cells": [
    {
      "cell_type": "markdown",
      "metadata": {
        "id": "LwzV4KmClxT4"
      },
      "source": [
        "# EJERCICIOS SEMANA 2\n",
        "Realizaremos los siguientes ejercicios para cerrar la semana dos de capacitación\n",
        "\n",
        "### EJERCICIO 1\n",
        "Realiza un programa que solicite 3 números por consola y los imprima ordenados de menor a mayor. Realizalo con condicionales y despúes por lista\n"
      ]
    },
    {
      "cell_type": "code",
      "execution_count": 14,
      "metadata": {
        "id": "_GXBn-mcmazR"
      },
      "outputs": [
        {
          "name": "stdout",
          "output_type": "stream",
          "text": [
            "Error hay números repetidos\n"
          ]
        }
      ],
      "source": [
        "#CON CONCIONALES if\n",
        "#Inicia por declarar tus variables\n",
        "numero1=0\n",
        "numero2=0\n",
        "numero3=0\n",
        "\n",
        "\n",
        "#Solicita por consola se agrueguen esos números.\n",
        "numero1=int(input('Ingresa el primer número'))\n",
        "numero2=int(input('Ingresa el segundo número'))\n",
        "numero3=int(input('Ingresa el tercer número'))\n",
        "\n",
        "\n",
        "#Estructur las condicionales\n",
        "if numero1<numero2 and numero1<numero3:\n",
        "    if numero2<numero3:\n",
        "        print(numero1,numero2,numero3)\n",
        "    else: \n",
        "        print(numero1,numero3,numero2)\n",
        "\n",
        "if numero2<numero1 and numero2<numero3:\n",
        "    if numero1<numero3:\n",
        "        print(numero2,numero1,numero3)\n",
        "    else:\n",
        "        print(numero2,numero3,numero1)\n",
        "if numero3<numero1 and numero3<numero2:\n",
        "    if numero1<numero2:\n",
        "        print(numero3,numero1,numero2)\n",
        "    else:\n",
        "        print(numero3,numero2,numero1)\n",
        "else:\n",
        "    print('Error hay números repetidos')\n",
        "\n"
      ]
    },
    {
      "cell_type": "markdown",
      "metadata": {
        "id": "NuVAnSYhppOa"
      },
      "source": [
        "Ahora realizalo con lista"
      ]
    },
    {
      "cell_type": "code",
      "execution_count": 4,
      "metadata": {
        "id": "PYZ7OOMjpuMI"
      },
      "outputs": [
        {
          "name": "stdout",
          "output_type": "stream",
          "text": [
            "['6', '5', '9']\n"
          ]
        }
      ],
      "source": [
        "#Genera la lista\n",
        "numeros=[]\n",
        "ingreso=1\n",
        "nuevo_numero=0\n",
        "\n",
        "\n",
        "#Solicta los números por consola y crea un ciclo para que los pida 3 veces\n",
        "while ingreso<4:\n",
        "    nuevo_numero=input('Ingresa un número')\n",
        "    while nuevo_numero not in numeros:\n",
        "        numeros.append(nuevo_numero)\n",
        "        ingreso=ingreso+1\n",
        "numeros.sort\n",
        "print(numeros)\n",
        "\n"
      ]
    },
    {
      "cell_type": "code",
      "execution_count": 2,
      "metadata": {},
      "outputs": [
        {
          "name": "stdout",
          "output_type": "stream",
          "text": [
            "ese numero ya esta\n",
            "['1', '3']\n"
          ]
        }
      ],
      "source": [
        "numeros=[]\n",
        "numero = 0\n",
        "cont=0\n",
        "while cont<2:\n",
        "    numero=input('ingresa un número')\n",
        "    while numero in numeros:\n",
        "        print('ese numero ya esta')\n",
        "        numero=input('ingresa un número')\n",
        "    numeros.append(numero)\n",
        "    cont= cont+1\n",
        "numeros.sort()\n",
        "print(numeros)"
      ]
    },
    {
      "cell_type": "markdown",
      "metadata": {
        "id": "O6a6HQsVxhLj"
      },
      "source": [
        "\n",
        "## EJERCICIO 1\n",
        "Realiza un programa que solicite por consola 10 números al usuario y muestre al final la suma de esos 10 números, además que copie la lista en otra lista y ordene de forma descendente la segunda lista y la muestre\n",
        "\n",
        "range() se considera en Python 3 un tipo de dato, aunque se utiliza como función"
      ]
    },
    {
      "cell_type": "code",
      "execution_count": 5,
      "metadata": {
        "id": "qqDc17TuE1vT"
      },
      "outputs": [
        {
          "name": "stdout",
          "output_type": "stream",
          "text": [
            "0\n",
            "1\n",
            "2\n",
            "3\n",
            "4\n",
            "5\n",
            "6\n",
            "7\n",
            "8\n",
            "9\n"
          ]
        }
      ],
      "source": [
        "for num in range(0,10):\n",
        "  print(num)"
      ]
    },
    {
      "cell_type": "code",
      "execution_count": null,
      "metadata": {
        "id": "O1YDZufUx-B4"
      },
      "outputs": [],
      "source": [
        "# Creamos las variables a utilizar\n",
        "lista = []\n",
        "lista2 = []\n",
        "res = 0  #esta variable almacenará el resultado de la suma de cada dato ingresado\n",
        "\n",
        "for num in range(1,11): # la variable num recorrerá un rango de 1 a 10\n",
        "  num = int(input('ingresa un número')) #pedimos el número y lo convertimos a entero\n",
        "  lista.append(num) #agrega el número ingresado a la lista\n",
        "  res=res+num # va sumando los números ingresados, al estar en el ciclo, por la sangria, sumará cada dato ingresado\n",
        "print(f'el resultado es {res}')\n",
        "lista2=lista[::-1] #copia la lista en la otra lista y los ordena de forma descendente\n",
        "print(lista2)\n"
      ]
    },
    {
      "cell_type": "markdown",
      "metadata": {
        "id": "3W0gzVWyJyPZ"
      },
      "source": [
        "### Otra forma de resolverlo"
      ]
    },
    {
      "cell_type": "code",
      "execution_count": 7,
      "metadata": {
        "id": "hYlL6dP1IgUv"
      },
      "outputs": [
        {
          "name": "stdout",
          "output_type": "stream",
          "text": [
            "Ese número ya lo ingresaste\n",
            "Ese número ya lo ingresaste\n",
            "Ese número ya lo ingresaste\n",
            "Ese número ya lo ingresaste\n",
            "Ese número ya lo ingresaste\n",
            "Ese número ya lo ingresaste\n",
            "el resultado es 252\n"
          ]
        }
      ],
      "source": [
        "lista = []\n",
        "res = 0\n",
        "cont = 0 # esta variable será nuestro contador\n",
        "num = 0\n",
        "\n",
        "while cont < 10: #esto hará que solo se pidan 10 datos\n",
        "  cont = cont + 1 # aumentamos el valor del contador para que pueda salir del ciclo\n",
        "  num = int(input('ingresa un número'))\n",
        "  while num in lista:\n",
        "        print('Ese número ya lo ingresaste')\n",
        "        num = int(input('ingresa un número'))\n",
        "  lista.append(num)\n",
        "  res=res+num\n",
        "print(f'el resultado es {res}')"
      ]
    },
    {
      "cell_type": "markdown",
      "metadata": {
        "id": "PH1oh1ZSfwvT"
      },
      "source": [
        "Agrega las líneas de código necesarias para detectar cuando se ingrese un número ya ingresado y lo informe al usuario."
      ]
    },
    {
      "cell_type": "markdown",
      "metadata": {
        "id": "XCnxXas-ujAR"
      },
      "source": [
        "\n",
        "## EJERCICIO 2\n",
        "Vamos a crear un programa que nos imprima el total de abonos que realiza un cliente, por ahora no necesitamos saber el total del préstamo, solo necesitamos preguntar el número de clientes de los que se capturaran sus abonos, sus nombres y el monto del abono, el ciclo se rompe al ingresar 0 en la cantidad del abobo. Al final nos debe imprimir el nombre de los clientes capturados y el total del monto abonado."
      ]
    },
    {
      "cell_type": "code",
      "execution_count": 8,
      "metadata": {
        "id": "adOum5yhL8v1"
      },
      "outputs": [
        {
          "name": "stdout",
          "output_type": "stream",
          "text": [
            "yare ha abonado: 7.000000\n",
            "hasen ha abonado: 29.000000\n"
          ]
        }
      ],
      "source": [
        "clientes = {} # este sera el diccionario \n",
        "cliente = ''  # el cliente individual\n",
        "abonos=[] # la lista para almacenar los abonos\n",
        "abono = 0 # los abonos individuales\n",
        "cantidad_clientes = 0 \n",
        "\n",
        "cantidad_clientes = int(input(\"Introduce la cantidad de clientes que se van a consultar:\"))\n",
        "for num in range(cantidad_clientes): #la variable num va a recorrer el rango que se haya ingresado en la cantidad de clientes y ejeurara el código dentro\n",
        "  cliente = input(\"Ingresa el nombre del cliente:\")# pedimos el nombre para entrar a la validación de while\n",
        "  while cliente in clientes:  #si encuentra el cliente en el diccionario se ejecuta el menaje\n",
        "    print(\"Ese cliente ya existe\")\n",
        "    cliente = input(\"Ingresa el nombre del cliente:\") #volvemos a solicitar el nombre, si no hacemos esto la variable no cambia de valor y se ejecuta en infinito\n",
        "  abono = int(input(\"Ingresa la cantidad abonada (cero para terminar):\"))# una vez que valido el cliente vamos a solicitar el abono\n",
        "  while abono > 0: # mientras sea mayor a 0 va ejecutar el código, cuando se ingrese un negativo o el 0 se rompera el ciclo\n",
        "    abonos.append(abono) #agrega el monto del abono a la lista \n",
        "    abono = int(input(\"Ingresa la cantidad abonada (cero para terminar):\"))# los mismo que más arriba, si no se moifica el valor de la variable se ejecuta infinito\n",
        "    clientes[cliente] = abonos.copy() # manda el dato del abono al diccionario\n",
        "for cliente, abonos in clientes.items(): #recorre el diccionario, los items son los valores de cada posición en el diccionario o lista\n",
        "  print(\"%s ha abonado: %f\" % (cliente,sum(abonos))) #imprime el cliente y con la función sum suma los valores de abonos"
      ]
    },
    {
      "cell_type": "markdown",
      "metadata": {
        "id": "ts6nPa1QW6K1"
      },
      "source": [
        "Para complementar el programa crea el código para imprimir no solo la suma de lo abonado, también el promedio de los abonos, el abono mas alto y el más bajo, además de considerar que a todos los clientes se les presto la misma cantidad de 200,000 pesos, al final agrega una línea de código para imprimir cuánto le falta pagar a cada cliente para saldar su deuda, considera que no puede abonar el cliente más de la cantidad que adeuda."
      ]
    }
  ],
  "metadata": {
    "colab": {
      "name": "ejercicio_semana2.ipynb",
      "provenance": []
    },
    "kernelspec": {
      "display_name": "Python 3.6.9 64-bit",
      "language": "python",
      "name": "python3"
    },
    "language_info": {
      "name": "python",
      "version": "3.6.9"
    },
    "vscode": {
      "interpreter": {
        "hash": "31f2aee4e71d21fbe5cf8b01ff0e069b9275f58929596ceb00d14d90e3e16cd6"
      }
    }
  },
  "nbformat": 4,
  "nbformat_minor": 0
}
